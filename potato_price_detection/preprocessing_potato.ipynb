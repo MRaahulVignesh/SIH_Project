{
 "cells": [
  {
   "cell_type": "markdown",
   "metadata": {
    "colab_type": "text",
    "id": "IxIY4A9xRxH_"
   },
   "source": [
    "<b>PART-I<b>"
   ]
  },
  {
   "cell_type": "markdown",
   "metadata": {
    "colab_type": "text",
    "id": "meuQqGcBRxIB"
   },
   "source": [
    "<b>Preprocessing of raw_wheat.csv to wheat.csv<b>"
   ]
  },
  {
   "cell_type": "code",
   "execution_count": 1,
   "metadata": {
    "colab": {
     "base_uri": "https://localhost:8080/",
     "height": 71
    },
    "colab_type": "code",
    "id": "r8rfBEH6RxIC",
    "outputId": "851ae1d0-cb9a-4809-c753-5c7d73c70c39"
   },
   "outputs": [
    {
     "name": "stderr",
     "output_type": "stream",
     "text": [
      "/usr/local/lib/python3.6/dist-packages/statsmodels/tools/_testing.py:19: FutureWarning: pandas.util.testing is deprecated. Use the functions in the public API at pandas.testing instead.\n",
      "  import pandas.util.testing as tm\n"
     ]
    }
   ],
   "source": [
    "import pylab\n",
    "import calendar\n",
    "import numpy as np\n",
    "import pandas as pd\n",
    "import seaborn as sn\n",
    "from scipy import stats\n",
    "#import missingno as msno\n",
    "from datetime import datetime\n",
    "import matplotlib.pyplot as plt\n",
    "import warnings\n",
    "pd.options.mode.chained_assignment = None\n",
    "warnings.filterwarnings(\"ignore\", category=DeprecationWarning)\n",
    "%matplotlib inline"
   ]
  },
  {
   "cell_type": "code",
   "execution_count": 2,
   "metadata": {
    "colab": {
     "base_uri": "https://localhost:8080/",
     "height": 122
    },
    "colab_type": "code",
    "id": "jj4dA5E0SNZp",
    "outputId": "58d48792-8a3a-4f45-bf7f-663f7f3f5408"
   },
   "outputs": [
    {
     "name": "stdout",
     "output_type": "stream",
     "text": [
      "Go to this URL in a browser: https://accounts.google.com/o/oauth2/auth?client_id=947318989803-6bn6qk8qdgf4n4g3pfee6491hc0brc4i.apps.googleusercontent.com&redirect_uri=urn%3aietf%3awg%3aoauth%3a2.0%3aoob&response_type=code&scope=email%20https%3a%2f%2fwww.googleapis.com%2fauth%2fdocs.test%20https%3a%2f%2fwww.googleapis.com%2fauth%2fdrive%20https%3a%2f%2fwww.googleapis.com%2fauth%2fdrive.photos.readonly%20https%3a%2f%2fwww.googleapis.com%2fauth%2fpeopleapi.readonly\n",
      "\n",
      "Enter your authorization code:\n",
      "··········\n",
      "Mounted at /content/gdrive\n"
     ]
    }
   ],
   "source": [
    "from google.colab import drive\n",
    "drive.mount('/content/gdrive')"
   ]
  },
  {
   "cell_type": "code",
   "execution_count": 3,
   "metadata": {
    "colab": {},
    "colab_type": "code",
    "id": "29B824TVRxIG"
   },
   "outputs": [],
   "source": [
    "daily_Data= pd.read_csv(\"/content/gdrive/My Drive/Sih_hamara/potato_pricing/daily_wholesale_price_Potato-upto_apr_2015.csv\")"
   ]
  },
  {
   "cell_type": "code",
   "execution_count": 4,
   "metadata": {
    "colab": {
     "base_uri": "https://localhost:8080/",
     "height": 111
    },
    "colab_type": "code",
    "id": "H8i2QALgRxIK",
    "outputId": "544dd708-550e-4d24-eeed-c02241154ccc"
   },
   "outputs": [
    {
     "data": {
      "text/html": [
       "<div>\n",
       "<style scoped>\n",
       "    .dataframe tbody tr th:only-of-type {\n",
       "        vertical-align: middle;\n",
       "    }\n",
       "\n",
       "    .dataframe tbody tr th {\n",
       "        vertical-align: top;\n",
       "    }\n",
       "\n",
       "    .dataframe thead th {\n",
       "        text-align: right;\n",
       "    }\n",
       "</style>\n",
       "<table border=\"1\" class=\"dataframe\">\n",
       "  <thead>\n",
       "    <tr style=\"text-align: right;\">\n",
       "      <th></th>\n",
       "      <th>Date</th>\n",
       "      <th>Centre_Name</th>\n",
       "      <th>Commodity_Name</th>\n",
       "      <th>Price</th>\n",
       "    </tr>\n",
       "  </thead>\n",
       "  <tbody>\n",
       "    <tr>\n",
       "      <th>0</th>\n",
       "      <td>01-01-09</td>\n",
       "      <td>CHANDIGARH</td>\n",
       "      <td>Potato</td>\n",
       "      <td>NaN</td>\n",
       "    </tr>\n",
       "    <tr>\n",
       "      <th>1</th>\n",
       "      <td>01-01-09</td>\n",
       "      <td>DELHI</td>\n",
       "      <td>Potato</td>\n",
       "      <td>212.0</td>\n",
       "    </tr>\n",
       "  </tbody>\n",
       "</table>\n",
       "</div>"
      ],
      "text/plain": [
       "       Date Centre_Name Commodity_Name  Price\n",
       "0  01-01-09  CHANDIGARH         Potato    NaN\n",
       "1  01-01-09       DELHI         Potato  212.0"
      ]
     },
     "execution_count": 4,
     "metadata": {
      "tags": []
     },
     "output_type": "execute_result"
    }
   ],
   "source": [
    "daily_Data.head(2)"
   ]
  },
  {
   "cell_type": "code",
   "execution_count": 5,
   "metadata": {
    "colab": {
     "base_uri": "https://localhost:8080/",
     "height": 34
    },
    "colab_type": "code",
    "id": "qAt3xpOTRxIO",
    "outputId": "36acb7d3-d8d2-4ce5-ab24-debd6c35d5af"
   },
   "outputs": [
    {
     "data": {
      "text/plain": [
       "(73311, 4)"
      ]
     },
     "execution_count": 5,
     "metadata": {
      "tags": []
     },
     "output_type": "execute_result"
    }
   ],
   "source": [
    "daily_Data.shape"
   ]
  },
  {
   "cell_type": "code",
   "execution_count": 6,
   "metadata": {
    "colab": {},
    "colab_type": "code",
    "id": "719F-vISRxIS"
   },
   "outputs": [],
   "source": [
    "df=daily_Data.copy()"
   ]
  },
  {
   "cell_type": "code",
   "execution_count": 7,
   "metadata": {
    "colab": {
     "base_uri": "https://localhost:8080/",
     "height": 34
    },
    "colab_type": "code",
    "id": "0Uz_au4NRxIV",
    "outputId": "81375ff3-2992-4e14-c959-8282ceaeef78"
   },
   "outputs": [
    {
     "data": {
      "text/plain": [
       "Index(['Date', 'Centre_Name', 'Commodity_Name', 'Price'], dtype='object')"
      ]
     },
     "execution_count": 7,
     "metadata": {
      "tags": []
     },
     "output_type": "execute_result"
    }
   ],
   "source": [
    "df.columns"
   ]
  },
  {
   "cell_type": "code",
   "execution_count": null,
   "metadata": {
    "colab": {},
    "colab_type": "code",
    "id": "yWeVteu7RxIa"
   },
   "outputs": [],
   "source": [
    "df=df.rename(index=str, columns={\"Sl no.\": \"Sl_no\", \"Min Price (Rs./Quintal)\": \"Min_Price\",\"Price Date\":\"Price_Date\",\"Modal Price (Rs./Quintal)\":\"Modal_Price\"})"
   ]
  },
  {
   "cell_type": "code",
   "execution_count": 8,
   "metadata": {
    "colab": {
     "base_uri": "https://localhost:8080/",
     "height": 204
    },
    "colab_type": "code",
    "id": "CIAQDzK6RxIf",
    "outputId": "292539b9-3e89-4ab6-e639-08d209909a2b"
   },
   "outputs": [
    {
     "data": {
      "text/html": [
       "<div>\n",
       "<style scoped>\n",
       "    .dataframe tbody tr th:only-of-type {\n",
       "        vertical-align: middle;\n",
       "    }\n",
       "\n",
       "    .dataframe tbody tr th {\n",
       "        vertical-align: top;\n",
       "    }\n",
       "\n",
       "    .dataframe thead th {\n",
       "        text-align: right;\n",
       "    }\n",
       "</style>\n",
       "<table border=\"1\" class=\"dataframe\">\n",
       "  <thead>\n",
       "    <tr style=\"text-align: right;\">\n",
       "      <th></th>\n",
       "      <th>Date</th>\n",
       "      <th>Centre_Name</th>\n",
       "      <th>Commodity_Name</th>\n",
       "      <th>Price</th>\n",
       "    </tr>\n",
       "  </thead>\n",
       "  <tbody>\n",
       "    <tr>\n",
       "      <th>0</th>\n",
       "      <td>01-01-09</td>\n",
       "      <td>CHANDIGARH</td>\n",
       "      <td>Potato</td>\n",
       "      <td>NaN</td>\n",
       "    </tr>\n",
       "    <tr>\n",
       "      <th>1</th>\n",
       "      <td>01-01-09</td>\n",
       "      <td>DELHI</td>\n",
       "      <td>Potato</td>\n",
       "      <td>212.0</td>\n",
       "    </tr>\n",
       "    <tr>\n",
       "      <th>2</th>\n",
       "      <td>01-01-09</td>\n",
       "      <td>SHIMLA</td>\n",
       "      <td>Potato</td>\n",
       "      <td>NaN</td>\n",
       "    </tr>\n",
       "    <tr>\n",
       "      <th>3</th>\n",
       "      <td>01-01-09</td>\n",
       "      <td>SRINAGAR</td>\n",
       "      <td>Potato</td>\n",
       "      <td>NaN</td>\n",
       "    </tr>\n",
       "    <tr>\n",
       "      <th>4</th>\n",
       "      <td>01-01-09</td>\n",
       "      <td>JAMMU</td>\n",
       "      <td>Potato</td>\n",
       "      <td>NaN</td>\n",
       "    </tr>\n",
       "  </tbody>\n",
       "</table>\n",
       "</div>"
      ],
      "text/plain": [
       "       Date Centre_Name Commodity_Name  Price\n",
       "0  01-01-09  CHANDIGARH         Potato    NaN\n",
       "1  01-01-09       DELHI         Potato  212.0\n",
       "2  01-01-09      SHIMLA         Potato    NaN\n",
       "3  01-01-09    SRINAGAR         Potato    NaN\n",
       "4  01-01-09       JAMMU         Potato    NaN"
      ]
     },
     "execution_count": 8,
     "metadata": {
      "tags": []
     },
     "output_type": "execute_result"
    }
   ],
   "source": [
    "df.head()"
   ]
  },
  {
   "cell_type": "code",
   "execution_count": 9,
   "metadata": {
    "colab": {
     "base_uri": "https://localhost:8080/",
     "height": 34
    },
    "colab_type": "code",
    "id": "gQq9is8QRxIi",
    "outputId": "ab414e6f-af59-4524-cf15-a9a05810acf8"
   },
   "outputs": [
    {
     "data": {
      "text/plain": [
       "Index(['Date', 'Centre_Name', 'Commodity_Name', 'Price'], dtype='object')"
      ]
     },
     "execution_count": 9,
     "metadata": {
      "tags": []
     },
     "output_type": "execute_result"
    }
   ],
   "source": [
    "df.columns"
   ]
  },
  {
   "cell_type": "code",
   "execution_count": 10,
   "metadata": {
    "colab": {},
    "colab_type": "code",
    "id": "9VCxqMlyRxIl",
    "scrolled": true
   },
   "outputs": [],
   "source": [
    "df.Date = pd.to_datetime(df.Date, errors='coerce')"
   ]
  },
  {
   "cell_type": "code",
   "execution_count": 11,
   "metadata": {
    "colab": {
     "base_uri": "https://localhost:8080/",
     "height": 204
    },
    "colab_type": "code",
    "id": "0ukvisLXRxIp",
    "outputId": "b0d3a935-fd26-4b79-9aca-7fcc6d8f62b7"
   },
   "outputs": [
    {
     "data": {
      "text/html": [
       "<div>\n",
       "<style scoped>\n",
       "    .dataframe tbody tr th:only-of-type {\n",
       "        vertical-align: middle;\n",
       "    }\n",
       "\n",
       "    .dataframe tbody tr th {\n",
       "        vertical-align: top;\n",
       "    }\n",
       "\n",
       "    .dataframe thead th {\n",
       "        text-align: right;\n",
       "    }\n",
       "</style>\n",
       "<table border=\"1\" class=\"dataframe\">\n",
       "  <thead>\n",
       "    <tr style=\"text-align: right;\">\n",
       "      <th></th>\n",
       "      <th>Date</th>\n",
       "      <th>Centre_Name</th>\n",
       "      <th>Commodity_Name</th>\n",
       "      <th>Price</th>\n",
       "    </tr>\n",
       "  </thead>\n",
       "  <tbody>\n",
       "    <tr>\n",
       "      <th>0</th>\n",
       "      <td>2009-01-01</td>\n",
       "      <td>CHANDIGARH</td>\n",
       "      <td>Potato</td>\n",
       "      <td>NaN</td>\n",
       "    </tr>\n",
       "    <tr>\n",
       "      <th>1</th>\n",
       "      <td>2009-01-01</td>\n",
       "      <td>DELHI</td>\n",
       "      <td>Potato</td>\n",
       "      <td>212.0</td>\n",
       "    </tr>\n",
       "    <tr>\n",
       "      <th>2</th>\n",
       "      <td>2009-01-01</td>\n",
       "      <td>SHIMLA</td>\n",
       "      <td>Potato</td>\n",
       "      <td>NaN</td>\n",
       "    </tr>\n",
       "    <tr>\n",
       "      <th>3</th>\n",
       "      <td>2009-01-01</td>\n",
       "      <td>SRINAGAR</td>\n",
       "      <td>Potato</td>\n",
       "      <td>NaN</td>\n",
       "    </tr>\n",
       "    <tr>\n",
       "      <th>4</th>\n",
       "      <td>2009-01-01</td>\n",
       "      <td>JAMMU</td>\n",
       "      <td>Potato</td>\n",
       "      <td>NaN</td>\n",
       "    </tr>\n",
       "  </tbody>\n",
       "</table>\n",
       "</div>"
      ],
      "text/plain": [
       "        Date Centre_Name Commodity_Name  Price\n",
       "0 2009-01-01  CHANDIGARH         Potato    NaN\n",
       "1 2009-01-01       DELHI         Potato  212.0\n",
       "2 2009-01-01      SHIMLA         Potato    NaN\n",
       "3 2009-01-01    SRINAGAR         Potato    NaN\n",
       "4 2009-01-01       JAMMU         Potato    NaN"
      ]
     },
     "execution_count": 11,
     "metadata": {
      "tags": []
     },
     "output_type": "execute_result"
    }
   ],
   "source": [
    "df.head()"
   ]
  },
  {
   "cell_type": "code",
   "execution_count": 12,
   "metadata": {
    "colab": {},
    "colab_type": "code",
    "id": "zlo_lZs0RxIu",
    "scrolled": true
   },
   "outputs": [],
   "source": [
    "df=df.sort_values(by='Date')"
   ]
  },
  {
   "cell_type": "code",
   "execution_count": 13,
   "metadata": {
    "colab": {},
    "colab_type": "code",
    "id": "2o71zSVgRxIy"
   },
   "outputs": [],
   "source": [
    "df.drop_duplicates('Date', inplace = True)"
   ]
  },
  {
   "cell_type": "code",
   "execution_count": 14,
   "metadata": {
    "colab": {
     "base_uri": "https://localhost:8080/",
     "height": 669
    },
    "colab_type": "code",
    "id": "rd7CJUjTRxI1",
    "outputId": "a7a1d610-ca6e-4277-8813-c2058daddbba"
   },
   "outputs": [
    {
     "data": {
      "text/html": [
       "<div>\n",
       "<style scoped>\n",
       "    .dataframe tbody tr th:only-of-type {\n",
       "        vertical-align: middle;\n",
       "    }\n",
       "\n",
       "    .dataframe tbody tr th {\n",
       "        vertical-align: top;\n",
       "    }\n",
       "\n",
       "    .dataframe thead th {\n",
       "        text-align: right;\n",
       "    }\n",
       "</style>\n",
       "<table border=\"1\" class=\"dataframe\">\n",
       "  <thead>\n",
       "    <tr style=\"text-align: right;\">\n",
       "      <th></th>\n",
       "      <th>Date</th>\n",
       "      <th>Centre_Name</th>\n",
       "      <th>Commodity_Name</th>\n",
       "      <th>Price</th>\n",
       "    </tr>\n",
       "  </thead>\n",
       "  <tbody>\n",
       "    <tr>\n",
       "      <th>0</th>\n",
       "      <td>2009-01-01</td>\n",
       "      <td>CHANDIGARH</td>\n",
       "      <td>Potato</td>\n",
       "      <td>NaN</td>\n",
       "    </tr>\n",
       "    <tr>\n",
       "      <th>1636</th>\n",
       "      <td>2009-01-04</td>\n",
       "      <td>BHUBANESHWAR</td>\n",
       "      <td>Potato</td>\n",
       "      <td>NaN</td>\n",
       "    </tr>\n",
       "    <tr>\n",
       "      <th>2125</th>\n",
       "      <td>2009-01-05</td>\n",
       "      <td>SHILLONG</td>\n",
       "      <td>Potato</td>\n",
       "      <td>NaN</td>\n",
       "    </tr>\n",
       "    <tr>\n",
       "      <th>2661</th>\n",
       "      <td>2009-01-06</td>\n",
       "      <td>RANCHI</td>\n",
       "      <td>Potato</td>\n",
       "      <td>NaN</td>\n",
       "    </tr>\n",
       "    <tr>\n",
       "      <th>3250</th>\n",
       "      <td>2009-01-07</td>\n",
       "      <td>AHMEDABAD</td>\n",
       "      <td>Potato</td>\n",
       "      <td>1125.0</td>\n",
       "    </tr>\n",
       "    <tr>\n",
       "      <th>4420</th>\n",
       "      <td>2009-01-09</td>\n",
       "      <td>SHILLONG</td>\n",
       "      <td>Potato</td>\n",
       "      <td>NaN</td>\n",
       "    </tr>\n",
       "    <tr>\n",
       "      <th>4957</th>\n",
       "      <td>2009-01-10</td>\n",
       "      <td>BHUBANESHWAR</td>\n",
       "      <td>Potato</td>\n",
       "      <td>NaN</td>\n",
       "    </tr>\n",
       "    <tr>\n",
       "      <th>6059</th>\n",
       "      <td>2009-01-12</td>\n",
       "      <td>BHOPAL</td>\n",
       "      <td>Potato</td>\n",
       "      <td>NaN</td>\n",
       "    </tr>\n",
       "    <tr>\n",
       "      <th>215</th>\n",
       "      <td>2009-01-13</td>\n",
       "      <td>HYDERABAD</td>\n",
       "      <td>Potato</td>\n",
       "      <td>NaN</td>\n",
       "    </tr>\n",
       "    <tr>\n",
       "      <th>216</th>\n",
       "      <td>2009-01-14</td>\n",
       "      <td>CHANDIGARH</td>\n",
       "      <td>Potato</td>\n",
       "      <td>NaN</td>\n",
       "    </tr>\n",
       "    <tr>\n",
       "      <th>244</th>\n",
       "      <td>2009-01-15</td>\n",
       "      <td>DELHI</td>\n",
       "      <td>Potato</td>\n",
       "      <td>225.0</td>\n",
       "    </tr>\n",
       "    <tr>\n",
       "      <th>271</th>\n",
       "      <td>2009-01-16</td>\n",
       "      <td>DELHI</td>\n",
       "      <td>Potato</td>\n",
       "      <td>225.0</td>\n",
       "    </tr>\n",
       "    <tr>\n",
       "      <th>311</th>\n",
       "      <td>2009-01-19</td>\n",
       "      <td>PATNA</td>\n",
       "      <td>Potato</td>\n",
       "      <td>NaN</td>\n",
       "    </tr>\n",
       "    <tr>\n",
       "      <th>337</th>\n",
       "      <td>2009-01-20</td>\n",
       "      <td>JAIPUR</td>\n",
       "      <td>Potato</td>\n",
       "      <td>NaN</td>\n",
       "    </tr>\n",
       "    <tr>\n",
       "      <th>352</th>\n",
       "      <td>2009-01-21</td>\n",
       "      <td>DELHI</td>\n",
       "      <td>Potato</td>\n",
       "      <td>250.0</td>\n",
       "    </tr>\n",
       "    <tr>\n",
       "      <th>379</th>\n",
       "      <td>2009-01-22</td>\n",
       "      <td>DELHI</td>\n",
       "      <td>Potato</td>\n",
       "      <td>250.0</td>\n",
       "    </tr>\n",
       "    <tr>\n",
       "      <th>419</th>\n",
       "      <td>2009-01-23</td>\n",
       "      <td>PATNA</td>\n",
       "      <td>Potato</td>\n",
       "      <td>NaN</td>\n",
       "    </tr>\n",
       "    <tr>\n",
       "      <th>444</th>\n",
       "      <td>2009-01-27</td>\n",
       "      <td>MUMBAI</td>\n",
       "      <td>Potato</td>\n",
       "      <td>NaN</td>\n",
       "    </tr>\n",
       "    <tr>\n",
       "      <th>459</th>\n",
       "      <td>2009-01-28</td>\n",
       "      <td>CHANDIGARH</td>\n",
       "      <td>Potato</td>\n",
       "      <td>NaN</td>\n",
       "    </tr>\n",
       "    <tr>\n",
       "      <th>486</th>\n",
       "      <td>2009-01-29</td>\n",
       "      <td>CHANDIGARH</td>\n",
       "      <td>Potato</td>\n",
       "      <td>NaN</td>\n",
       "    </tr>\n",
       "  </tbody>\n",
       "</table>\n",
       "</div>"
      ],
      "text/plain": [
       "           Date   Centre_Name Commodity_Name   Price\n",
       "0    2009-01-01    CHANDIGARH         Potato     NaN\n",
       "1636 2009-01-04  BHUBANESHWAR         Potato     NaN\n",
       "2125 2009-01-05      SHILLONG         Potato     NaN\n",
       "2661 2009-01-06        RANCHI         Potato     NaN\n",
       "3250 2009-01-07     AHMEDABAD         Potato  1125.0\n",
       "4420 2009-01-09      SHILLONG         Potato     NaN\n",
       "4957 2009-01-10  BHUBANESHWAR         Potato     NaN\n",
       "6059 2009-01-12        BHOPAL         Potato     NaN\n",
       "215  2009-01-13     HYDERABAD         Potato     NaN\n",
       "216  2009-01-14    CHANDIGARH         Potato     NaN\n",
       "244  2009-01-15         DELHI         Potato   225.0\n",
       "271  2009-01-16         DELHI         Potato   225.0\n",
       "311  2009-01-19         PATNA         Potato     NaN\n",
       "337  2009-01-20        JAIPUR         Potato     NaN\n",
       "352  2009-01-21         DELHI         Potato   250.0\n",
       "379  2009-01-22         DELHI         Potato   250.0\n",
       "419  2009-01-23         PATNA         Potato     NaN\n",
       "444  2009-01-27        MUMBAI         Potato     NaN\n",
       "459  2009-01-28    CHANDIGARH         Potato     NaN\n",
       "486  2009-01-29    CHANDIGARH         Potato     NaN"
      ]
     },
     "execution_count": 14,
     "metadata": {
      "tags": []
     },
     "output_type": "execute_result"
    }
   ],
   "source": [
    "df.head(20)"
   ]
  },
  {
   "cell_type": "markdown",
   "metadata": {},
   "source": [
    "## saving it to potato.csv ##\n"
   ]
  },
  {
   "cell_type": "code",
   "execution_count": 15,
   "metadata": {
    "colab": {},
    "colab_type": "code",
    "id": "QWLCqOOWRxI5"
   },
   "outputs": [],
   "source": [
    "df.to_csv(\"/content/gdrive/My Drive/Sih_hamara/potato_pricing/potato.csv\", sep=',')"
   ]
  },
  {
   "cell_type": "code",
   "execution_count": null,
   "metadata": {
    "colab": {},
    "colab_type": "code",
    "id": "68Gk7tGqTp_4"
   },
   "outputs": [],
   "source": []
  }
 ],
 "metadata": {
  "colab": {
   "name": "preprocessing_potato.ipynb",
   "provenance": []
  },
  "kernelspec": {
   "display_name": "Python 3",
   "language": "python",
   "name": "python3"
  },
  "language_info": {
   "codemirror_mode": {
    "name": "ipython",
    "version": 3
   },
   "file_extension": ".py",
   "mimetype": "text/x-python",
   "name": "python",
   "nbconvert_exporter": "python",
   "pygments_lexer": "ipython3",
   "version": "3.6.9"
  }
 },
 "nbformat": 4,
 "nbformat_minor": 1
}
